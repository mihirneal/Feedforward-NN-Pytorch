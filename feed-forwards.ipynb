{
 "cells": [
  {
   "cell_type": "code",
   "execution_count": 2,
   "metadata": {},
   "outputs": [],
   "source": [
    "import torch\n",
    "import torch.nn as nn \n",
    "import torchvision.transforms as transforms\n",
    "import torchvision\n",
    "import matplotlib.pyplot as plt"
   ]
  },
  {
   "cell_type": "code",
   "execution_count": 15,
   "metadata": {},
   "outputs": [],
   "source": [
    "#Defining hyperparameters\n",
    "input_size = 784\n",
    "hidden_size = 1000\n",
    "num_classes = 10\n",
    "num_epoch = 10\n",
    "learning_rate = 0.001\n",
    "batch_size = 100"
   ]
  },
  {
   "cell_type": "code",
   "execution_count": 4,
   "metadata": {},
   "outputs": [
    {
     "name": "stdout",
     "output_type": "stream",
     "text": [
      "Downloading http://yann.lecun.com/exdb/mnist/train-images-idx3-ubyte.gz\n"
     ]
    },
    {
     "name": "stderr",
     "output_type": "stream",
     "text": [
      "0.4%"
     ]
    },
    {
     "name": "stdout",
     "output_type": "stream",
     "text": [
      "Downloading http://yann.lecun.com/exdb/mnist/train-images-idx3-ubyte.gz to ./data/MNIST/raw/train-images-idx3-ubyte.gz\n"
     ]
    },
    {
     "name": "stderr",
     "output_type": "stream",
     "text": [
      "31.0%IOPub message rate exceeded.\n",
      "The notebook server will temporarily stop sending output\n",
      "to the client in order to avoid crashing it.\n",
      "To change this limit, set the config variable\n",
      "`--NotebookApp.iopub_msg_rate_limit`.\n",
      "\n",
      "Current values:\n",
      "NotebookApp.iopub_msg_rate_limit=1000.0 (msgs/sec)\n",
      "NotebookApp.rate_limit_window=3.0 (secs)\n",
      "\n",
      "100.0%\n"
     ]
    },
    {
     "name": "stdout",
     "output_type": "stream",
     "text": [
      "Extracting ./data/MNIST/raw/train-images-idx3-ubyte.gz to ./data/MNIST/raw\n",
      "\n",
      "Downloading http://yann.lecun.com/exdb/mnist/train-labels-idx1-ubyte.gz\n"
     ]
    },
    {
     "name": "stderr",
     "output_type": "stream",
     "text": [
      "102.8%"
     ]
    },
    {
     "name": "stdout",
     "output_type": "stream",
     "text": [
      "Downloading http://yann.lecun.com/exdb/mnist/train-labels-idx1-ubyte.gz to ./data/MNIST/raw/train-labels-idx1-ubyte.gz\n",
      "Extracting ./data/MNIST/raw/train-labels-idx1-ubyte.gz to ./data/MNIST/raw\n",
      "\n",
      "Downloading http://yann.lecun.com/exdb/mnist/t10k-images-idx3-ubyte.gz\n"
     ]
    },
    {
     "name": "stderr",
     "output_type": "stream",
     "text": [
      "\n",
      "1.7%"
     ]
    },
    {
     "name": "stdout",
     "output_type": "stream",
     "text": [
      "Downloading http://yann.lecun.com/exdb/mnist/t10k-images-idx3-ubyte.gz to ./data/MNIST/raw/t10k-images-idx3-ubyte.gz\n"
     ]
    },
    {
     "name": "stderr",
     "output_type": "stream",
     "text": [
      "58.8%IOPub message rate exceeded.\n",
      "The notebook server will temporarily stop sending output\n",
      "to the client in order to avoid crashing it.\n",
      "To change this limit, set the config variable\n",
      "`--NotebookApp.iopub_msg_rate_limit`.\n",
      "\n",
      "Current values:\n",
      "NotebookApp.iopub_msg_rate_limit=1000.0 (msgs/sec)\n",
      "NotebookApp.rate_limit_window=3.0 (secs)\n",
      "\n"
     ]
    }
   ],
   "source": [
    "#Importing Dataset\n",
    "train_dataset = torchvision.datasets.MNIST(root = './data', train=True, transform=transforms.ToTensor(), download=True)\n",
    "test_dataset = torchvision.datasets.MNIST(root = './data', train=False, transform=transforms.ToTensor())"
   ]
  },
  {
   "cell_type": "code",
   "execution_count": 6,
   "metadata": {},
   "outputs": [],
   "source": [
    "#Dataloader\n",
    "train_loader = torch.utils.data.DataLoader(dataset= train_dataset, batch_size = batch_size, shuffle = True)\n",
    "test_loader = torch.utils.data.DataLoader(dataset= test_dataset, batch_size = batch_size, shuffle = False)   "
   ]
  },
  {
   "cell_type": "code",
   "execution_count": 7,
   "metadata": {},
   "outputs": [
    {
     "name": "stdout",
     "output_type": "stream",
     "text": [
      "torch.Size([100, 1, 28, 28]) torch.Size([100])\n"
     ]
    }
   ],
   "source": [
    "examples = iter(train_loader)\n",
    "samples, labels = examples.next()\n",
    "print(samples.shape, labels.shape)"
   ]
  },
  {
   "cell_type": "code",
   "execution_count": 8,
   "metadata": {},
   "outputs": [
    {
     "data": {
      "image/png": "[encoded data removed]",
      "text/plain": [
       "<Figure size 432x288 with 1 Axes>"
      ]
     },
     "metadata": {
      "needs_background": "light"
     },
     "output_type": "display_data"
    },
    {
     "data": {
      "image/png": "[encoded data removed]",
      "text/plain": [
       "<Figure size 432x288 with 1 Axes>"
      ]
     },
     "metadata": {
      "needs_background": "light"
     },
     "output_type": "display_data"
    },
    {
     "data": {
      "image/png": "[encoded data removed]",
      "text/plain": [
       "<Figure size 432x288 with 1 Axes>"
      ]
     },
     "metadata": {
      "needs_background": "light"
     },
     "output_type": "display_data"
    },
    {
     "data": {
      "image/png": "[encoded data removed]",
      "text/plain": [
       "<Figure size 432x288 with 1 Axes>"
      ]
     },
     "metadata": {
      "needs_background": "light"
     },
     "output_type": "display_data"
    },
    {
     "data": {
      "image/png": "[encoded data removed]",
      "text/plain": [
       "<Figure size 432x288 with 1 Axes>"
      ]
     },
     "metadata": {
      "needs_background": "light"
     },
     "output_type": "display_data"
    },
    {
     "data": {
      "image/png": "[encoded data removed]",
      "text/plain": [
       "<Figure size 432x288 with 1 Axes>"
      ]
     },
     "metadata": {
      "needs_background": "light"
     },
     "output_type": "display_data"
    }
   ],
   "source": [
    "for i in range(6):\n",
    "    plt.subplot(2, 3, i+1)\n",
    "    plt.imshow(samples[i][0], cmap = 'gray')\n",
    "    plt.show()"
   ]
  },
  {
   "cell_type": "code",
   "execution_count": 9,
   "metadata": {},
   "outputs": [],
   "source": [
    "class NeuralNet(nn.Module):\n",
    "    def __init__(self, input_size, hidden_size, num_classes):\n",
    "        super(NeuralNet, self).__init__()\n",
    "        self.l1 = nn.Linear(input_size, hidden_size)\n",
    "        self.relu = nn.ReLU()\n",
    "        self.l2 = nn.Linear(hidden_size, hidden_size)\n",
    "        self.relu = nn.ReLU()\n",
    "        self.l3 = nn.Linear(hidden_size, num_classes)\n",
    "\n",
    "    def forward(self, x):\n",
    "        out = self.l1(x)\n",
    "        out = self.relu(out)\n",
    "        out = self.l2(out)\n",
    "        out = self.relu(out)\n",
    "        out = self.l3(out)\n",
    "        return out\n"
   ]
  },
  {
   "cell_type": "code",
   "execution_count": 10,
   "metadata": {},
   "outputs": [],
   "source": [
    "model = NeuralNet(input_size, hidden_size, num_classes)"
   ]
  },
  {
   "cell_type": "code",
   "execution_count": 12,
   "metadata": {},
   "outputs": [],
   "source": [
    "#Loss and Optimizer\n",
    "loss_fn  = nn.CrossEntropyLoss()\n",
    "optimizer = torch.optim.Adam(model.parameters(), lr = learning_rate)"
   ]
  },
  {
   "cell_type": "code",
   "execution_count": 16,
   "metadata": {},
   "outputs": [
    {
     "name": "stdout",
     "output_type": "stream",
     "text": [
      "epoch 1 / 10, step 100 / 600, loss = 0.0419\n",
      "epoch 1 / 10, step 200 / 600, loss = 0.0306\n",
      "epoch 1 / 10, step 300 / 600, loss = 0.0473\n",
      "epoch 1 / 10, step 400 / 600, loss = 0.0269\n",
      "epoch 1 / 10, step 500 / 600, loss = 0.0301\n",
      "epoch 1 / 10, step 600 / 600, loss = 0.0638\n",
      "epoch 2 / 10, step 100 / 600, loss = 0.0050\n",
      "epoch 2 / 10, step 200 / 600, loss = 0.0112\n",
      "epoch 2 / 10, step 300 / 600, loss = 0.0448\n",
      "epoch 2 / 10, step 400 / 600, loss = 0.0358\n",
      "epoch 2 / 10, step 500 / 600, loss = 0.1417\n",
      "epoch 2 / 10, step 600 / 600, loss = 0.0363\n",
      "epoch 3 / 10, step 100 / 600, loss = 0.0053\n",
      "epoch 3 / 10, step 200 / 600, loss = 0.0460\n",
      "epoch 3 / 10, step 300 / 600, loss = 0.0122\n",
      "epoch 3 / 10, step 400 / 600, loss = 0.0207\n",
      "epoch 3 / 10, step 500 / 600, loss = 0.0122\n",
      "epoch 3 / 10, step 600 / 600, loss = 0.0012\n",
      "epoch 4 / 10, step 100 / 600, loss = 0.0603\n",
      "epoch 4 / 10, step 200 / 600, loss = 0.0360\n",
      "epoch 4 / 10, step 300 / 600, loss = 0.0264\n",
      "epoch 4 / 10, step 400 / 600, loss = 0.0440\n",
      "epoch 4 / 10, step 500 / 600, loss = 0.0123\n",
      "epoch 4 / 10, step 600 / 600, loss = 0.0409\n",
      "epoch 5 / 10, step 100 / 600, loss = 0.0002\n",
      "epoch 5 / 10, step 200 / 600, loss = 0.0217\n",
      "epoch 5 / 10, step 300 / 600, loss = 0.0013\n",
      "epoch 5 / 10, step 400 / 600, loss = 0.0012\n",
      "epoch 5 / 10, step 500 / 600, loss = 0.1389\n",
      "epoch 5 / 10, step 600 / 600, loss = 0.0145\n",
      "epoch 6 / 10, step 100 / 600, loss = 0.0004\n",
      "epoch 6 / 10, step 200 / 600, loss = 0.0011\n",
      "epoch 6 / 10, step 300 / 600, loss = 0.0016\n",
      "epoch 6 / 10, step 400 / 600, loss = 0.0622\n",
      "epoch 6 / 10, step 500 / 600, loss = 0.0085\n",
      "epoch 6 / 10, step 600 / 600, loss = 0.0008\n",
      "epoch 7 / 10, step 100 / 600, loss = 0.0114\n",
      "epoch 7 / 10, step 200 / 600, loss = 0.0025\n",
      "epoch 7 / 10, step 300 / 600, loss = 0.0208\n",
      "epoch 7 / 10, step 400 / 600, loss = 0.0050\n",
      "epoch 7 / 10, step 500 / 600, loss = 0.0120\n",
      "epoch 7 / 10, step 600 / 600, loss = 0.0102\n",
      "epoch 8 / 10, step 100 / 600, loss = 0.0592\n",
      "epoch 8 / 10, step 200 / 600, loss = 0.0027\n",
      "epoch 8 / 10, step 300 / 600, loss = 0.0076\n",
      "epoch 8 / 10, step 400 / 600, loss = 0.0395\n",
      "epoch 8 / 10, step 500 / 600, loss = 0.0049\n",
      "epoch 8 / 10, step 600 / 600, loss = 0.0086\n",
      "epoch 9 / 10, step 100 / 600, loss = 0.0011\n",
      "epoch 9 / 10, step 200 / 600, loss = 0.0001\n",
      "epoch 9 / 10, step 300 / 600, loss = 0.0039\n",
      "epoch 9 / 10, step 400 / 600, loss = 0.0069\n",
      "epoch 9 / 10, step 500 / 600, loss = 0.0005\n",
      "epoch 9 / 10, step 600 / 600, loss = 0.0013\n",
      "epoch 10 / 10, step 100 / 600, loss = 0.0004\n",
      "epoch 10 / 10, step 200 / 600, loss = 0.0052\n",
      "epoch 10 / 10, step 300 / 600, loss = 0.0009\n",
      "epoch 10 / 10, step 400 / 600, loss = 0.0005\n",
      "epoch 10 / 10, step 500 / 600, loss = 0.0036\n",
      "epoch 10 / 10, step 600 / 600, loss = 0.0364\n"
     ]
    }
   ],
   "source": [
    "#TrainingLoop\n",
    "n_steps = len(train_loader)\n",
    "\n",
    "for ep in range(num_epoch):\n",
    "    for i, (images, labels) in enumerate(train_loader):\n",
    "        #Reshaping Tensors\n",
    "        images = images.reshape(-1, 28*28)\n",
    "        \n",
    "        #Forward Pass\n",
    "        output = model(images)\n",
    "        loss = loss_fn(output, labels)\n",
    "\n",
    "        #Backward Pass\n",
    "        optimizer.zero_grad()\n",
    "        loss.backward()\n",
    "        optimizer.step()\n",
    "\n",
    "        if (i+1) % 100 == 0:\n",
    "            print(f'epoch {ep +1} / {num_epoch}, step {i + 1} / {n_steps}, loss = {loss.item():.4f}')\n"
   ]
  },
  {
   "cell_type": "code",
   "execution_count": 18,
   "metadata": {},
   "outputs": [
    {
     "name": "stdout",
     "output_type": "stream",
     "text": [
      "Accuracy = 98.04\n"
     ]
    }
   ],
   "source": [
    "#Testing the Neural Network\n",
    "with torch.no_grad():\n",
    "    correct = 0\n",
    "    samples = 0\n",
    "    for images, labels in test_loader:\n",
    "        #Reshaping the Tensors\n",
    "        images = images.reshape(-1, 28*28)\n",
    "\n",
    "        #Calculating Predictions\n",
    "        outputs = model(images)\n",
    "        _, pred = torch.max(outputs, 1) #Returns values and the index\n",
    "        samples += labels.shape[0]\n",
    "        correct += (pred == labels).sum().item()\n",
    "\n",
    "        #Calculating Accuracy\n",
    "    acc =  100.0 * correct / samples\n",
    "    print(f'Accuracy = {acc}')"
   ]
  },
  {
   "cell_type": "code",
   "execution_count": null,
   "metadata": {},
   "outputs": [],
   "source": []
  }
 ],
 "metadata": {
  "interpreter": {
   "hash": "cf27035b7dc97182e329f4f3264e74024bcb2370fef5d6f059b9761c10d841e0"
  },
  "kernelspec": {
   "display_name": "Python 3.8.11 ('pytorch')",
   "language": "python",
   "name": "python3"
  },
  "language_info": {
   "codemirror_mode": {
    "name": "ipython",
    "version": 3
   },
   "file_extension": ".py",
   "mimetype": "text/x-python",
   "name": "python",
   "nbconvert_exporter": "python",
   "pygments_lexer": "ipython3",
   "version": "3.8.11"
  },
  "orig_nbformat": 4
 },
 "nbformat": 4,
 "nbformat_minor": 2
}
